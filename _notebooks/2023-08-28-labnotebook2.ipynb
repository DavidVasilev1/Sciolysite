{
 "cells": [
  {
   "cell_type": "markdown",
   "metadata": {},
   "source": [
    "---\n",
    "- title: Lab Notebook 2\n",
    "- author: david\n",
    "- categories: [Lab Notebook]\n",
    "- tags: [Java]\n",
    "- type: tangibles\n",
    "- week: 2\n",
    "- description: Week 1 lab work.\n",
    "- toc: true\n",
    "- comments: true\n",
    "- date: 2023-08-28 12:00:00 +0000\n",
    "---"
   ]
  },
  {
   "cell_type": "markdown",
   "metadata": {},
   "source": [
    "## Java\n",
    "\n",
    "Java works with OOP (Object Oriented Programming), where objects and classes are made. This method uses ```classes```, ```objects```, ```methods```, and ```attributes```.\n",
    "\n",
    "![oop](/assets/img/post_images/oop.png)"
   ]
  },
  {
   "cell_type": "markdown",
   "metadata": {},
   "source": [
    "### Classes\n",
    "\n",
    "Classes are user-defined data types that are blueprints for each of the objects that are going to be created. They also blueprint how the attributes and methods will behave. These classes can be static or dynamic.\n",
    "- Static - this sets the class to print out pre-defined variables\n",
    "- Dynamic - variables can be added to an instance that exists only for the time that the code is run\n",
    "\n",
    "Below is an example with how a class can be made. This is the same for both dynamic and static classes."
   ]
  },
  {
   "cell_type": "code",
   "execution_count": 1,
   "metadata": {
    "vscode": {
     "languageId": "java"
    }
   },
   "outputs": [
    {
     "name": "stdout",
     "output_type": "stream",
     "text": [
      "Hello World!\n"
     ]
    }
   ],
   "source": [
    "public class HelloStatic {\n",
    "  public static void main(String[] args) {\n",
    "    System.out.println(\"Hello World!\");\n",
    "  }\n",
    "}\n",
    "\n",
    "HelloStatic.main(null); //class is called"
   ]
  },
  {
   "cell_type": "markdown",
   "metadata": {},
   "source": [
    "This is a general way of structuring inside a class."
   ]
  },
  {
   "cell_type": "code",
   "execution_count": null,
   "metadata": {
    "vscode": {
     "languageId": "java"
    }
   },
   "outputs": [],
   "source": [
    "public class Person\n",
    "{\n",
    "    // instance variables\n",
    "\n",
    "    // constructors\n",
    "\n",
    "    // methods\n",
    "\n",
    "}"
   ]
  },
  {
   "cell_type": "markdown",
   "metadata": {},
   "source": [
    "### Objects\n",
    "\n",
    "Objects contain the methods and attributes that are going to be used in the code. They are the instances of the class that is created and are used to house the attributes and methods that are going to be used and executed.\n",
    "\n",
    "This is how a static class wouldn't use objects but a dynamic class would."
   ]
  },
  {
   "cell_type": "code",
   "execution_count": null,
   "metadata": {
    "vscode": {
     "languageId": "java"
    }
   },
   "outputs": [],
   "source": [
    "// class\n",
    "public class HelloObject {\n",
    "  private String hello;   // instance attribute or variable\n",
    "  public HelloObject() {  // constructor\n",
    "    \n",
    "  }\n",
    "  public String getHello() {  // getter, returns value from inside the object\n",
    "    \n",
    "  }\n",
    "  public static void main(String[] args) {\n",
    "    HelloObject ho = new HelloObject(); // object created with variables\n",
    "    System.out.println(ho.getHello());\n",
    "  }\n",
    "}"
   ]
  },
  {
   "cell_type": "markdown",
   "metadata": {},
   "source": [
    "### Methods\n",
    "\n",
    "Methods are functions defines in a class to describe the behavior of objects. They always start with a reference to an instance object and are reusable.\n",
    "\n",
    "They are only used in dynamic classes."
   ]
  },
  {
   "cell_type": "code",
   "execution_count": 4,
   "metadata": {
    "vscode": {
     "languageId": "java"
    }
   },
   "outputs": [
    {
     "name": "stdout",
     "output_type": "stream",
     "text": [
      "Hello, World!\n"
     ]
    }
   ],
   "source": [
    "public class HelloObject {\n",
    "    private String hello;   // instance attribute or variable\n",
    "    public HelloObject() {  // constructor\n",
    "        hello = \"Hello, World!\"; \n",
    "    }\n",
    "    public String getHello() {  // getter, returns value from inside the object\n",
    "        return this.hello;  // return variable from object\n",
    "    }\n",
    "    public static void main(String[] args) {    \n",
    "        HelloObject ho = new HelloObject(); // object created with variables (instance of class)\n",
    "        System.out.println(ho.getHello()); // method (gets object)\n",
    "    }\n",
    "}\n",
    "\n",
    "HelloObject.main(null);"
   ]
  },
  {
   "cell_type": "markdown",
   "metadata": {},
   "source": [
    "### Attributes\n",
    "\n",
    "These are basically variables in which data is stored. This is where data is taken from when printing it.\n",
    "\n",
    "Both static and dynamic have attributes."
   ]
  },
  {
   "cell_type": "code",
   "execution_count": null,
   "metadata": {
    "vscode": {
     "languageId": "java"
    }
   },
   "outputs": [],
   "source": [
    "public class HelloObject {\n",
    "    private String hello;   // instance attribute or variable\n",
    "    public HelloObject() {  // constructor\n",
    "        hello = \"Hello, World!\"; // attribute\n",
    "    }\n",
    "    public String getHello() {  // getter, returns value from inside the object\n",
    "        return this.hello;  // return variable from object\n",
    "    }\n",
    "    public static void main(String[] args) {    \n",
    "        HelloObject ho = new HelloObject(); // object created with variables (instance of class)\n",
    "        System.out.println(ho.getHello()); // method (gets object)\n",
    "    }\n",
    "}\n",
    "\n",
    "HelloObject.main(null);"
   ]
  },
  {
   "cell_type": "code",
   "execution_count": null,
   "metadata": {
    "vscode": {
     "languageId": "java"
    }
   },
   "outputs": [],
   "source": [
    "public class HelloStatic {\n",
    "  public static void main(String[] args) {\n",
    "    System.out.println(\"Hello World!\"); // attribute\n",
    "  }\n",
    "}\n",
    "\n",
    "HelloStatic.main(null); //class is called"
   ]
  },
  {
   "cell_type": "markdown",
   "metadata": {},
   "source": [
    "### Summary\n",
    "\n",
    "- Classes - methods that do things (hold all the code)\n",
    "- Objects - instances that hold data\n",
    "- Methods - functions that execute something (called by objects)\n",
    "- Attributes - variables that hold data"
   ]
  },
  {
   "cell_type": "markdown",
   "metadata": {},
   "source": [
    "### Example with Two Constructors\n",
    "\n",
    "In this example, there are two objects that are created (```hd1``` and ```hd2```) where each one is called with ```HelloDynamic()```, where ```hd1``` is set to the default and ```hd2``` is set to it's own custom string. Both aer defined as variables ```hello``` and are then retrieved and printed with the getter method ```getHello()```."
   ]
  },
  {
   "cell_type": "code",
   "execution_count": 5,
   "metadata": {
    "vscode": {
     "languageId": "java"
    }
   },
   "outputs": [
    {
     "name": "stdout",
     "output_type": "stream",
     "text": [
      "Hello, World!\n",
      "Hello, Nighthawk Coding Society!\n"
     ]
    }
   ],
   "source": [
    "// Define Class\n",
    "public class HelloDynamic { // name the first letter of class as capitalized, note camel case\n",
    "    // instance variable have access modifier (private is most common), data type, and name\n",
    "    private String hello;\n",
    "    // constructor signature 1, public and zero arguments, constructors do not have return type\n",
    "    public HelloDynamic() {  // 0 argument constructor\n",
    "        this.setHello(\"Hello, World!\");  // using setter with static string\n",
    "    }\n",
    "    // constructor signature, public and one argument\n",
    "    public HelloDynamic(String hello) { // 1 argument constructor\n",
    "        this.setHello(hello);   // using setter with local variable passed into constructor\n",
    "    }\n",
    "    // setter/mutator, setter have void return type and a parameter\n",
    "    public void setHello(String hello) { // setter\n",
    "        this.hello = hello;     // instance variable on the left, local variable on the right\n",
    "    }\n",
    "    // getter/accessor, getter used to return private instance variable (encapsulated), return type is String\n",
    "    public String getHello() {  // getter\n",
    "        return this.hello;\n",
    "    }\n",
    "    // public static void main(String[] args) is signature for main/drivers/tester method\n",
    "    // a driver/tester method is singular or called a class method, it is never part of an object\n",
    "    public static void main(String[] args) {  \n",
    "        HelloDynamic hd1 = new HelloDynamic(); // no argument constructor\n",
    "        HelloDynamic hd2 = new HelloDynamic(\"Hello, Nighthawk Coding Society!\"); // one argument constructor\n",
    "        System.out.println(hd1.getHello()); // accessing getter\n",
    "        System.out.println(hd2.getHello()); \n",
    "    }\n",
    "}\n",
    "// IJava activation\n",
    "HelloDynamic.main(null);"
   ]
  },
  {
   "cell_type": "markdown",
   "metadata": {},
   "source": [
    "## Hacks\n",
    "\n",
    "These are my Java hacks."
   ]
  },
  {
   "cell_type": "markdown",
   "metadata": {},
   "source": [
    "### Java Hello\n",
    "\n",
    "In here I attempted to build a database with a dynamic class, which I managed to do successfully by creating the data and then printing it and editing it. I also attempted to build an SQLite data base with a ```.jar``` file with the magic commands that Jupyter uses, however I wasn't able to do this because there were issues importing the ```sqlite-jdbc-3.36.0.3.jar``` in order to build the data table."
   ]
  },
  {
   "cell_type": "code",
   "execution_count": 29,
   "metadata": {
    "vscode": {
     "languageId": "java"
    }
   },
   "outputs": [
    {
     "name": "stdout",
     "output_type": "stream",
     "text": [
      "Enter person name: "
     ]
    },
    {
     "name": "stdout",
     "output_type": "stream",
     "text": [
      "\n",
      "Enter person age: \n",
      "Enter person height: \n",
      "Enter person weight: \n",
      "Enter food: \n",
      "Enter food cost: \n",
      "Enter food calories: \n",
      "Enter food protein: \n",
      "Enter food sugar: \n",
      "Enter city: \n",
      "Enter state: \n",
      "Enter ZIP code: \n",
      "\n",
      "Group Info:\n",
      "Person Info:\n",
      "Name: Bob\n",
      "Age: 56 years\n",
      "Height: 257 centimeters\n",
      "Weight: 45 kilograms\n",
      "\n",
      "Food Info:\n",
      "Type: Cake\n",
      "Cost: $25.0\n",
      "Calories: 304\n",
      "Protein: 2 grams\n",
      "Sugar: 79 grams\n",
      "\n",
      "Location Info:\n",
      "City: San Diego\n",
      "State: CA\n",
      "Zip Code: 92127\n"
     ]
    },
    {
     "name": "stderr",
     "output_type": "stream",
     "text": [
      "Error creating SQLite table: No suitable driver found for jdbc:sqlite:/instances/database.db\n"
     ]
    },
    {
     "name": "stdout",
     "output_type": "stream",
     "text": [
      "\n",
      "\n",
      "Group Info:\n",
      "Person Info:\n",
      "Name: David\n",
      "Age: 56 years\n",
      "Height: 196 centimeters\n",
      "Weight: 45 kilograms\n",
      "\n",
      "Food Info:\n",
      "Type: Cake\n",
      "Cost: $63.28\n",
      "Calories: 304\n",
      "Protein: 2 grams\n",
      "Sugar: 79 grams\n",
      "\n",
      "Location Info:\n",
      "City: Los Angeles\n",
      "State: CA\n",
      "Zip Code: 92127\n"
     ]
    }
   ],
   "source": [
    "// imports libraries for sqlite\n",
    "import java.util.Scanner;\n",
    "import java.sql.Connection;\n",
    "import java.sql.DriverManager;\n",
    "import java.sql.SQLException;\n",
    "import java.sql.Statement;\n",
    "import java.util.Scanner;\n",
    "// attempt at importing a .jar file to get data into sqlite\n",
    "// %jars /sqlite-jdbc-3.36.0.3.jar\n",
    "\n",
    "// class for person\n",
    "class Person {\n",
    "  // signature makes these variables private to class\n",
    "  private String name; // attribute\n",
    "  private int age;\n",
    "  private int height;\n",
    "  private int weight;\n",
    "\n",
    "  public Person(String name, int age, int height, int weight) { // constructor to initialize the person attributes\n",
    "    this.name = name;\n",
    "    this.age = age;\n",
    "    this.height = height;\n",
    "    this.weight = weight;\n",
    "  }\n",
    "  \n",
    "  // these are public, making them accessible to everywhere\n",
    "  // void checks for correct input\n",
    "  // setter methods\n",
    "  public void setName(String name) {\n",
    "      this.name = name;\n",
    "  }\n",
    "\n",
    "  public void setAge(int age) {\n",
    "      this.age = age;\n",
    "  }\n",
    "\n",
    "  public void setHeight(int height) {\n",
    "      this.height = height;\n",
    "  }\n",
    "\n",
    "  public void setWeight(int weight) {\n",
    "      this.weight = weight;\n",
    "  }\n",
    "\n",
    "  //display method for data (getter)\n",
    "  public void display() {\n",
    "    System.out.println(\"Name: \" + name);\n",
    "    System.out.println(\"Age: \" + age + \" years\");\n",
    "    System.out.println(\"Height: \" + height + \" centimeters\");\n",
    "    System.out.println(\"Weight: \" + weight + \" kilograms\");\n",
    "  }\n",
    "}\n",
    "\n",
    "// class for food\n",
    "class Food {\n",
    "  private String type; // attribute\n",
    "  private double cost;\n",
    "  private int calories;\n",
    "  private int protein;\n",
    "  private int sugar;\n",
    "\n",
    "  public Food(String type, double cost, int calories, int protein, int sugar) { // constructor to initialize the food attributes\n",
    "      this.type = type;\n",
    "      this.cost = cost;\n",
    "      this.calories = calories;\n",
    "      this.protein = protein;\n",
    "      this.sugar = sugar;\n",
    "  }\n",
    "\n",
    "  public void setType(String type) {\n",
    "      this.type = type;\n",
    "  }\n",
    "\n",
    "  public void setCost(double cost) {\n",
    "      this.cost = cost;\n",
    "  }\n",
    "\n",
    "  public void setCalories(int calories) {\n",
    "      this.calories = calories;\n",
    "  }\n",
    "\n",
    "  public void setProtein(int protein) {\n",
    "      this.protein = protein;\n",
    "  }\n",
    "\n",
    "  public void setSugar(int sugar) {\n",
    "      this.sugar = sugar;\n",
    "  }\n",
    "\n",
    "  public void display() {\n",
    "      System.out.println(\"Type: \" + type);\n",
    "      System.out.println(\"Cost: $\" + cost);\n",
    "      System.out.println(\"Calories: \" + calories);\n",
    "      System.out.println(\"Protein: \" + protein + \" grams\");\n",
    "      System.out.println(\"Sugar: \" + sugar + \" grams\");\n",
    "  }\n",
    "}\n",
    "\n",
    "// class for location\n",
    "class Location {\n",
    "  private String city; // attribute\n",
    "  private String state;\n",
    "  private String zip;\n",
    "\n",
    "  public Location(String city, String state, String zip) { // constructor to initialize the location attributes\n",
    "    this.city = city;\n",
    "    this.state = state;\n",
    "    this.zip = zip;\n",
    "  }\n",
    "\n",
    "  public void setCity(String city) {\n",
    "      this.city = city;\n",
    "  }\n",
    "\n",
    "  public void setState(String state) {\n",
    "      this.state = state;\n",
    "  }\n",
    "\n",
    "  public void setZip(String zip) {\n",
    "      this.zip = zip;\n",
    "  }\n",
    "\n",
    "  public void display() {\n",
    "    System.out.println(\"City: \" + city);\n",
    "    System.out.println(\"State: \" + state);\n",
    "    System.out.println(\"Zip Code: \" + zip);\n",
    "  }\n",
    "}\n",
    "\n",
    "// class for grouping all the classes into one\n",
    "class Group {\n",
    "  public Person person; // attribute that are classes\n",
    "  public Food food;\n",
    "  public Location location;\n",
    "\n",
    "  public Group(Person person, Food food, Location location) { // constructor to initialize the class attributes\n",
    "    this.person = person;\n",
    "    this.food = food;\n",
    "    this.location = location;\n",
    "  }\n",
    "\n",
    "  public void displayGroupInfo() {\n",
    "    System.out.println(\"Person Info:\");\n",
    "    person.display();\n",
    "\n",
    "    System.out.println(\"\\nFood Info:\");\n",
    "    food.display();\n",
    "\n",
    "    System.out.println(\"\\nLocation Info:\");\n",
    "    location.display();\n",
    "  }\n",
    "\n",
    "  // chatGPT sqlite attempt\n",
    "  public void createSQLiteTable() {\n",
    "      // SQLite database file path\n",
    "      String dbFilePath = \"/instances/database.db\";\n",
    "\n",
    "      // SQL statement to create the table\n",
    "      String createTableSQL = \"CREATE TABLE IF NOT EXISTS GroupInfo (\"\n",
    "          + \"personName TEXT, personAge INT, personHeight INT, personWeight INT,\"\n",
    "          + \"foodType TEXT, foodCost REAL, foodCalories INT, foodProtein INT, foodSugar INT,\"\n",
    "          + \"city TEXT, state TEXT, zip TEXT)\";\n",
    "\n",
    "      // Establish connection and execute SQL statement\n",
    "      try (Connection connection = DriverManager.getConnection(\"jdbc:sqlite:\" + dbFilePath);\n",
    "            Statement statement = connection.createStatement()) {\n",
    "\n",
    "          // Create the table\n",
    "          statement.executeUpdate(createTableSQL);\n",
    "\n",
    "          System.out.println(\"SQLite table created successfully.\");\n",
    "      } catch (SQLException e) {\n",
    "          System.err.println(\"Error creating SQLite table: \" + e.getMessage());\n",
    "      }\n",
    "  }\n",
    "}\n",
    "\n",
    "public class MainDynamic {\n",
    "  public static void main(String[] args) {\n",
    "    // allows for user input\n",
    "    Scanner scanner = new Scanner(System.in);\n",
    "\n",
    "    //print statements for user input\n",
    "    System.out.print(\"Enter person name: \");\n",
    "    String personName = scanner.nextLine();\n",
    "    System.out.print(\"\\nEnter person age: \");\n",
    "    int personAge = scanner.nextInt();\n",
    "    System.out.print(\"\\nEnter person height: \");\n",
    "    int personHeight = scanner.nextInt();\n",
    "    System.out.print(\"\\nEnter person weight: \");\n",
    "    int personWeight = scanner.nextInt();\n",
    "    scanner.nextLine();\n",
    "\n",
    "\n",
    "    System.out.print(\"\\nEnter food: \");\n",
    "    String foodType = scanner.nextLine();\n",
    "    System.out.print(\"\\nEnter food cost: \");\n",
    "    double foodCost = scanner.nextDouble();\n",
    "    System.out.print(\"\\nEnter food calories: \");\n",
    "    int foodCalories = scanner.nextInt();\n",
    "    System.out.print(\"\\nEnter food protein: \");\n",
    "    int foodProtein = scanner.nextInt();\n",
    "    System.out.print(\"\\nEnter food sugar: \");\n",
    "    int foodSugar = scanner.nextInt();\n",
    "    scanner.nextLine();\n",
    "\n",
    "    System.out.print(\"\\nEnter city: \");\n",
    "    String city = scanner.nextLine();\n",
    "    System.out.print(\"\\nEnter state: \");\n",
    "    String state = scanner.nextLine();\n",
    "    System.out.print(\"\\nEnter ZIP code: \");\n",
    "    String zip = scanner.nextLine();\n",
    "    scanner.nextLine();\n",
    "\n",
    "    // gathering all information from scanner into objects\n",
    "    Person person = new Person(personName, personAge, personHeight, personWeight);\n",
    "    Food food = new Food(foodType, foodCost, foodCalories, foodProtein, foodSugar);\n",
    "    Location location = new Location(city, state, zip);\n",
    "\n",
    "    // gathering all data from classes into one\n",
    "    Group group = new Group(person, food, location);\n",
    "\n",
    "    // printing initial data\n",
    "    System.out.println();\n",
    "    System.out.println(\"\\nGroup Info:\");\n",
    "    group.displayGroupInfo();\n",
    "\n",
    "    scanner.close(); // stopping inputs\n",
    "    group.createSQLiteTable(); // making sqlite table\n",
    "\n",
    "    // updating data in the database\n",
    "    group.person.setName(\"David\");\n",
    "    group.person.setHeight(196);\n",
    "    group.food.setCost(63.28);\n",
    "    group.location.setCity(\"Los Angeles\");\n",
    "\n",
    "    // printing new data\n",
    "    System.out.println();\n",
    "    System.out.println(\"\\nGroup Info:\");\n",
    "    group.displayGroupInfo();\n",
    "\n",
    "  }\n",
    "}\n",
    "\n",
    "// running program\n",
    "MainDynamic.main(null);"
   ]
  },
  {
   "cell_type": "markdown",
   "metadata": {},
   "source": [
    "### Java Console Game\n",
    "\n",
    "In here, I modified the Tic Tac Toe game to make it more efficient.\n",
    "\n",
    "I started with making the main game class. Instead of creating the board with an array, I made it by counting to 9 with a loop. This is more efficient than typing out each number. After that I made the symbols in an array and I also make the ```quit``` variable so that the game runs."
   ]
  },
  {
   "cell_type": "code",
   "execution_count": 31,
   "metadata": {
    "vscode": {
     "languageId": "java"
    }
   },
   "outputs": [],
   "source": [
    "import java.util.Scanner;\n",
    "\n",
    "public class TicTacToeGame {\n",
    "    public static void main(String[] args) {\n",
    "        System.out.println(\"Tic Tac Toe\");\n",
    "\n",
    "        Scanner scTTT = new Scanner(System.in);\n",
    "\n",
    "        String[] board = new String[9]; // board is made without array, instead by counting\n",
    "        for (int i = 0; i < board.length; i++) {\n",
    "            board[i] = String.valueOf(i + 1); // creates initial board\n",
    "        }\n",
    "\n",
    "        String[] players = {\"X\", \"O\"}; // symbols\n",
    "        boolean quit = false; // makes game run\n",
    "\n",
    "        System.out.println(\"Type the number of the square you want to place your piece in\");\n",
    "\n",
    "        int currentPlayer = 0;\n",
    "        int turn = 0;\n",
    "\n",
    "        // while loop later\n",
    "\n",
    "        scTTT.close();\n",
    "    }\n",
    "    // ...other classes below\n",
    "}\n"
   ]
  },
  {
   "cell_type": "markdown",
   "metadata": {},
   "source": [
    "#### Game Logic\n",
    "\n",
    "I then use a loop to run through the turns, each turn stating which players turn it is and placing valid turns only. Turns that are out of the range of the numbers on the board or if the spot is already taken, the game won't continue. If the turn is valid, then the turn will be placed and the game continues. The game also checks if there's a win, which is another class, however if there is a win then the player is notified or if there is a tie the player is also notified."
   ]
  },
  {
   "cell_type": "code",
   "execution_count": null,
   "metadata": {
    "vscode": {
     "languageId": "java"
    }
   },
   "outputs": [],
   "source": [
    "while (!quit) {\n",
    "    System.out.println(\"Player \" + (currentPlayer + 1) + \"'s turn (\" + players[currentPlayer] + \")\");\n",
    "    printBoard(board); // prints current board (with moves)\n",
    "\n",
    "    int move = scTTT.nextInt() - 1;\n",
    "    if (move < 0 || move >= board.length || !board[move].equals(String.valueOf(move + 1))) {\n",
    "        System.out.println(\"Invalid move, try again.\");\n",
    "        continue; // tests if move is valid (if it's on open spot)\n",
    "    }\n",
    "\n",
    "    board[move] = players[currentPlayer]; // places turn on board\n",
    "    turn++;\n",
    "\n",
    "    if (checkWin(board, players[currentPlayer])) { // checks if player wins\n",
    "        System.out.println(\"Player \" + (currentPlayer + 1) + \" wins!\");\n",
    "        quit = true; // if one player wins (3 in a row), player wins\n",
    "    } else if (turn == 9) {\n",
    "        System.out.println(\"It's a tie!\");\n",
    "        quit = true; // if it's a tie (all blocks are filled), game ends\n",
    "    }\n",
    "\n",
    "    currentPlayer = (currentPlayer + 1) % 2; // moves to next turn\n",
    "}"
   ]
  },
  {
   "cell_type": "markdown",
   "metadata": {},
   "source": [
    "#### Printing Board\n",
    "\n",
    "In order to print the board I have a loop that prints the rows, where ```i``` is the number of times we loop through in order to get the proper columns."
   ]
  },
  {
   "cell_type": "code",
   "execution_count": null,
   "metadata": {
    "vscode": {
     "languageId": "java"
    }
   },
   "outputs": [],
   "source": [
    "public static void printBoard(String[] board) {\n",
    "    for (int i = 0; i < 9; i += 3) {\n",
    "        System.out.println(board[i] + \" | \" + board[i + 1] + \" | \" + board[i + 2]); // prints board\n",
    "    }\n",
    "}"
   ]
  },
  {
   "cell_type": "markdown",
   "metadata": {},
   "source": [
    "#### Checking for Wins\n",
    "\n",
    "In order to check for wins we have arrays that are predefined to show what winning patterns look like. The program then checks to see if there are any patterns that match and if there are, ```true``` is returned, signaling that the game is over and that one of the platers won."
   ]
  },
  {
   "cell_type": "code",
   "execution_count": null,
   "metadata": {
    "vscode": {
     "languageId": "java"
    }
   },
   "outputs": [],
   "source": [
    "public static boolean checkWin(String[] board, String player) {\n",
    "    // using arrays for game board\n",
    "    int[][] winPatterns = {\n",
    "        {0, 1, 2}, {3, 4, 5}, {6, 7, 8}, // rows\n",
    "        {0, 3, 6}, {1, 4, 7}, {2, 5, 8}, // columns\n",
    "        {0, 4, 8}, {2, 4, 6} // diagonals\n",
    "    };\n",
    "\n",
    "    for (int[] pattern : winPatterns) {\n",
    "        if (board[pattern[0]].equals(player) && board[pattern[1]].equals(player) && board[pattern[2]].equals(player)) {\n",
    "            return true; // check for win (based on win patterns above)\n",
    "        }\n",
    "    }\n",
    "    return false; // no win\n",
    "}"
   ]
  },
  {
   "cell_type": "markdown",
   "metadata": {},
   "source": [
    "This is the fully running game."
   ]
  },
  {
   "cell_type": "code",
   "execution_count": 46,
   "metadata": {
    "vscode": {
     "languageId": "java"
    }
   },
   "outputs": [
    {
     "name": "stdout",
     "output_type": "stream",
     "text": [
      "Tic Tac Toe\n",
      "Type the number of the square you want to place your piece in\n",
      "Player 1's turn (X)\n",
      "1 | 2 | 3\n",
      "4 | 5 | 6\n",
      "7 | 8 | 9\n",
      "Player 2's turn (O)\n",
      "X | 2 | 3\n",
      "4 | 5 | 6\n",
      "7 | 8 | 9\n",
      "Player 1's turn (X)\n",
      "X | 2 | O\n",
      "4 | 5 | 6\n",
      "7 | 8 | 9\n",
      "Player 2's turn (O)\n",
      "X | X | O\n",
      "4 | 5 | 6\n",
      "7 | 8 | 9\n",
      "Player 1's turn (X)\n",
      "X | X | O\n",
      "4 | 5 | 6\n",
      "7 | 8 | O\n",
      "Player 2's turn (O)\n",
      "X | X | O\n",
      "4 | 5 | 6\n",
      "7 | X | O\n",
      "Player 1's turn (X)\n",
      "X | X | O\n",
      "4 | 5 | 6\n",
      "O | X | O\n",
      "Player 1 wins!\n"
     ]
    }
   ],
   "source": [
    "import java.util.Scanner;\n",
    "\n",
    "public class TicTacToeGame {\n",
    "    public static void main(String[] args) {\n",
    "        System.out.println(\"Tic Tac Toe\");\n",
    "\n",
    "        Scanner scTTT = new Scanner(System.in);\n",
    "\n",
    "        String[] board = new String[9]; // board is made without array, instead by counting\n",
    "        for (int i = 0; i < board.length; i++) {\n",
    "            board[i] = String.valueOf(i + 1); // creates initial board\n",
    "        }\n",
    "\n",
    "        String[] players = {\"X\", \"O\"}; // symbols\n",
    "        boolean quit = false; // makes game run\n",
    "\n",
    "        System.out.println(\"Type the number of the square you want to place your piece in\");\n",
    "\n",
    "        int currentPlayer = 0;\n",
    "        int turn = 0;\n",
    "\n",
    "        while (!quit) {\n",
    "            System.out.println(\"Player \" + (currentPlayer + 1) + \"'s turn (\" + players[currentPlayer] + \")\");\n",
    "            printBoard(board); // prints current board (with moves)\n",
    "\n",
    "            int move = scTTT.nextInt() - 1;\n",
    "            scTTT.nextLine(); // Consume the newline character\n",
    "            if (move < 0 || move >= board.length || !board[move].equals(String.valueOf(move + 1))) {\n",
    "                System.out.println(\"Invalid move, try again.\");\n",
    "                continue; // tests if move is valid (if it's on open spot)\n",
    "            }\n",
    "\n",
    "            board[move] = players[currentPlayer]; // places turn on board\n",
    "            turn++;\n",
    "\n",
    "            if (checkWin(board, players[currentPlayer])) { // checks if player wins\n",
    "                System.out.println(\"Player \" + (currentPlayer + 1) + \" wins!\");\n",
    "                quit = true; // if one player wins (3 in a row), player wins\n",
    "            } else if (turn == 9) {\n",
    "                System.out.println(\"It's a tie!\");\n",
    "                quit = true; // if it's a tie (all blocks are filled), game ends\n",
    "            }\n",
    "\n",
    "            currentPlayer = (currentPlayer + 1) % 2; // moves to next turn\n",
    "        }\n",
    "\n",
    "        scTTT.close();\n",
    "    }\n",
    "\n",
    "    public static void printBoard(String[] board) {\n",
    "        for (int i = 0; i < 9; i += 3) {\n",
    "            System.out.println(board[i] + \" | \" + board[i + 1] + \" | \" + board[i + 2]); // prints board\n",
    "        }\n",
    "    }\n",
    "\n",
    "    public static boolean checkWin(String[] board, String player) {\n",
    "        // using arrays for game board\n",
    "        int[][] winPatterns = {\n",
    "            {0, 1, 2}, {3, 4, 5}, {6, 7, 8}, // rows\n",
    "            {0, 3, 6}, {1, 4, 7}, {2, 5, 8}, // columns\n",
    "            {0, 4, 8}, {2, 4, 6} // diagonals\n",
    "        };\n",
    "\n",
    "        for (int[] pattern : winPatterns) {\n",
    "            if (board[pattern[0]].equals(player) && board[pattern[1]].equals(player) && board[pattern[2]].equals(player)) {\n",
    "                return true; // check for win (based on win patterns above)\n",
    "            }\n",
    "        }\n",
    "        return false; // no win\n",
    "    }\n",
    "}\n",
    "\n",
    "TicTacToeGame.main(null)"
   ]
  }
 ],
 "metadata": {
  "kernelspec": {
   "display_name": "Java",
   "language": "java",
   "name": "java"
  },
  "language_info": {
   "codemirror_mode": "java",
   "file_extension": ".jshell",
   "mimetype": "text/x-java-source",
   "name": "Java",
   "pygments_lexer": "java",
   "version": "11.0.20+8-post-Ubuntu-1ubuntu120.04"
  },
  "orig_nbformat": 4
 },
 "nbformat": 4,
 "nbformat_minor": 2
}
